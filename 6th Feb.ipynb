{
 "cells": [
  {
   "cell_type": "code",
   "execution_count": 9,
   "id": "6d63a506-d566-4210-8f5c-9f946be8e7d5",
   "metadata": {},
   "outputs": [
    {
     "name": "stdout",
     "output_type": "stream",
     "text": [
      "Product of all numbers in the list is  4134711838987085478833841242112000\n"
     ]
    }
   ],
   "source": [
    "'''Q1. Create a function which will take a list as an argument and return the product of all the numbers\n",
    "after creating a flat list.\n",
    "Use the below-given list as an argument for your function.\n",
    "\n",
    "list1 = [1,2,3,4, [44,55,66, True], False, (34,56,78,89,34), {1,2,3,3,2,1}, {1:34, \"key2\": [55, 67, 78, 89], 4: (45,\n",
    "22, 61, 34)}, [56, 'data science'], 'Machine Learning']\n",
    "Note: you must extract numeric keys and values of the dictionary also.\n",
    "'''\n",
    "\n",
    "from functools import reduce # importing reduce function\n",
    "def product(l):    \n",
    "    '''Function to create a flat list of numbers extracted from given argument l and then return the product of its elements'''\n",
    "    \n",
    "    # empty list to store the numbers to be extracted from the list l\n",
    "    flatlist = [] \n",
    "    \n",
    "    # for loop to access elements of given list l one by one\n",
    "    for i in l:\n",
    "        \n",
    "        # condition to extract numeric elements of given list l\n",
    "        if type(i) == int:\n",
    "            flatlist.append(i)\n",
    "        \n",
    "        # condition to extract numeric values from within the iterable type elements in the given list l\n",
    "        elif type(i) in [list,tuple,set]:\n",
    "            for j in i:\n",
    "                if type(j) == int:\n",
    "                    flatlist.append(j)\n",
    "        \n",
    "        # condition to extract numeric values from dictionary elements of the given list l\n",
    "        elif type(i) == dict:\n",
    "            \n",
    "            # for loop to extract numeric values within the keys of the dictionary\n",
    "            for j in i.keys():\n",
    "                if type(j) == int:\n",
    "                    flatlist.append(j)\n",
    "                elif type(j) in [list,tuple,set]:\n",
    "                    for k in j:\n",
    "                        if type(k) == int:\n",
    "                            flatlist.append(k)\n",
    "                            \n",
    "            # for loop to extract numeric values within the values of the dictionary\n",
    "            for j in i.values():                \n",
    "                if type(j) == int:\n",
    "                    flatlist.append(j)\n",
    "                elif type(j) in [list,tuple,set]:\n",
    "                    for k in j:\n",
    "                        if type(k) == int:\n",
    "                            flatlist.append(k)\n",
    "    # product of all the flatlist elements using reduce() function imported from the module functools                        \n",
    "    product = reduce(lambda x,y : x*y , flatlist)\n",
    "    \n",
    "    # returning the product\n",
    "    return product\n",
    "\n",
    "list1 = [1,2,3,4, [44,55,66, True], False, (34,56,78,89,34), {1,2,3,3,2,1}, {1:34, \"key2\": [55, 67, 78, 89], 4: (45, 22, 61, 34)}, [56, 'data science'], 'Machine Learning']\n",
    "print(\"Product of all numbers in the list is \", product(list1))"
   ]
  },
  {
   "cell_type": "code",
   "execution_count": 8,
   "id": "1cfc711d-dc10-48b3-8bed-8a47484451a9",
   "metadata": {},
   "outputs": [
    {
     "name": "stdin",
     "output_type": "stream",
     "text": [
      "Enter your msg:  I want to become a Data Scientist.\n"
     ]
    },
    {
     "name": "stdout",
     "output_type": "stream",
     "text": [
      "r$dzmg$gl$yvxlnv$z$wzgz$hxrvmgrhg.\n"
     ]
    }
   ],
   "source": [
    "'''\n",
    "Q2. Write a python program for encrypting a message sent to you by your friend. The logic of encryption\n",
    "should be such that, for a the output should be z. For b, the output should be y. For c, the output should\n",
    "be x respectively. Also, the whitespace should be replaced with a dollar sign. Keep the punctuation\n",
    "marks unchanged.\n",
    "Input Sentence: I want to become a Data Scientist.\n",
    "Encrypt the above input sentence using the program you just created.\n",
    "\n",
    "Note: Convert the given input sentence into lowercase before encrypting. The final output should be\n",
    "lowercase.\n",
    "\n",
    "'''\n",
    "\n",
    "def encrypt(msg):\n",
    "    ''' function to encrypt the given message'''\n",
    "    \n",
    "    msg = msg.lower()\n",
    "    alphabets = 'abcdefghijklmnopqrstuvwxyz' # storing all the alphabets in a string variable \n",
    "    coded_msg = ''    # taking an empty string to store the encrypted message\n",
    "    temp_index = 0    # a temporary variable to store index of\n",
    "    \n",
    "    for char in msg:   # for loop to traverse each character in the message\n",
    "        \n",
    "        if char == ' ':  #if block to replace the white space character into dollar($) sign\n",
    "            coded_msg = coded_msg + '$'\n",
    "            \n",
    "        elif char in alphabets: # elif block to encrypt the alphabets (a to z, b to y ...)\n",
    "            temp_index = 26 - alphabets.index(char) - 1\n",
    "            coded_msg = coded_msg + alphabets[temp_index]\n",
    "            \n",
    "        else: # else block to add the punctuations as it is\n",
    "            coded_msg = coded_msg + char\n",
    "    return coded_msg\n",
    "\n",
    "string = input(\"Enter your msg: \")\n",
    "print(encrypt(string))"
   ]
  },
  {
   "cell_type": "code",
   "execution_count": null,
   "id": "fbd6dc44-42f2-49c6-b9c4-a17340f321b1",
   "metadata": {},
   "outputs": [],
   "source": []
  }
 ],
 "metadata": {
  "kernelspec": {
   "display_name": "Python 3 (ipykernel)",
   "language": "python",
   "name": "python3"
  },
  "language_info": {
   "codemirror_mode": {
    "name": "ipython",
    "version": 3
   },
   "file_extension": ".py",
   "mimetype": "text/x-python",
   "name": "python",
   "nbconvert_exporter": "python",
   "pygments_lexer": "ipython3",
   "version": "3.10.8"
  }
 },
 "nbformat": 4,
 "nbformat_minor": 5
}
