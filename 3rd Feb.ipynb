{
 "cells": [
  {
   "cell_type": "markdown",
   "id": "db411217-7bae-43cd-8dc3-b49059548e1b",
   "metadata": {},
   "source": [
    "### PW Skills - Data Science Masters\n",
    "##### Assignment by: Hardik Singh Babbar"
   ]
  },
  {
   "cell_type": "markdown",
   "id": "ffa082ad-5a7e-44bf-8d22-f95f32a264c7",
   "metadata": {},
   "source": [
    "__Q1. Which keyword is used to create a function? Create a function to return a list of odd numbers in the\n",
    "range of 1 to 25.__"
   ]
  },
  {
   "cell_type": "markdown",
   "id": "05ccb94f-1ad3-4932-b779-339f272e0e97",
   "metadata": {},
   "source": [
    "The 'def' keyword is used to create or define a function in Python.\n",
    "\n",
    "Given below is a function to return a list of odd numbers 1 through 25:"
   ]
  },
  {
   "cell_type": "code",
   "execution_count": 3,
   "id": "e4ca1022-545b-4a7a-be4b-b0d7745a322b",
   "metadata": {},
   "outputs": [
    {
     "name": "stdout",
     "output_type": "stream",
     "text": [
      "[1, 3, 5, 7, 9, 11, 13, 15, 17, 19, 21, 23]\n"
     ]
    }
   ],
   "source": [
    "# function is defined to return a list of odd numbers in range 1 through 25\n",
    "def oddlist():\n",
    "    odd_list = []\n",
    "    for i in range(1,25,2):\n",
    "                odd_list.append(i)\n",
    "    return odd_list\n",
    "\n",
    "# printing the result list\n",
    "print(oddlist())"
   ]
  },
  {
   "cell_type": "markdown",
   "id": "b44b7b94-757d-43b5-afe7-14d771374f09",
   "metadata": {},
   "source": [
    "__Q2. Why *args and **kwargs is used in some functions? Create a function each for *args and **kwargs\n",
    "to demonstrate their use.__"
   ]
  },
  {
   "cell_type": "markdown",
   "id": "b946a9ea-9215-40ea-bbcd-6c84fa0d6a4a",
   "metadata": {},
   "source": [
    "We use *args and **kwargs type arguments when we are unsure about the number of arguments to pass in the functions.\n",
    "*args is used when we expect a variable number of non-key value pair values such as int, string, list or tuples etc.); where as,**kwargs is used when we expect a variable number of key-value pair type of values."
   ]
  },
  {
   "cell_type": "code",
   "execution_count": 4,
   "id": "cbd30344-378b-4e0d-b676-4c645bd98354",
   "metadata": {},
   "outputs": [
    {
     "name": "stdout",
     "output_type": "stream",
     "text": [
      "Product: 15\n",
      "Product: 12\n",
      "Product: 120\n"
     ]
    }
   ],
   "source": [
    "# using *args in a function to pass multiple integer values\n",
    "def multiply(*num):\n",
    "    product= 1\n",
    "    \n",
    "    for n in num:\n",
    "        product = product * n\n",
    "    print(\"Product:\",product)\n",
    "\n",
    "# various function calls for the same function but with different number of arguments\n",
    "multiply(3,5)\n",
    "multiply(2,2,3)\n",
    "multiply(1,2,3,4,5)"
   ]
  },
  {
   "cell_type": "code",
   "execution_count": 5,
   "id": "c723da16-f275-40ed-ae4f-32801b3fae51",
   "metadata": {},
   "outputs": [
    {
     "name": "stdout",
     "output_type": "stream",
     "text": [
      "Courses are ['Data Science Masters', 'Web Development', 'Java with DSA']\n",
      "Mentors are ['Sudhanshu Kumar', 'Krish Naik']\n",
      "Mentor_emails are ('sudh@pwskills.com', 'krish@pwskills.com')\n"
     ]
    }
   ],
   "source": [
    "#using **kwargs in a function to pass multiple key-value pair values\n",
    "def pwskills(**data):\n",
    "    for key, value in data.items():\n",
    "        print(f\"{key} are {value}\")\n",
    "\n",
    "# a single argument is passed in this function call\n",
    "pwskills(Courses = ['Data Science Masters','Web Development', 'Java with DSA' ])\n",
    "\n",
    "# two arguments are passed in this function call\n",
    "pwskills(Mentors = ['Sudhanshu Kumar', 'Krish Naik'], Mentor_emails = ('sudh@pwskills.com','krish@pwskills.com'))"
   ]
  },
  {
   "cell_type": "markdown",
   "id": "1671e511-3306-44a8-9a50-cfc59cfc0a54",
   "metadata": {},
   "source": [
    "__Q3. What is an iterator in python? Name the method used to initialise the iterator object and the method\n",
    "used for iteration. Use these methods to print the first five elements of the given list [2, 4, 6, 8, 10, 12, 14,\n",
    "16, 18, 20].__"
   ]
  },
  {
   "cell_type": "markdown",
   "id": "2284bc38-de5e-4182-9f75-0b7960a10de3",
   "metadata": {},
   "source": [
    "Iterator, in python, is an object that is used to iterate over iterable objects like lists, tuples, dicts, and sets. To initialize an iterator object we call iter() function (or method) and to iterate through it we use the next() method."
   ]
  },
  {
   "cell_type": "code",
   "execution_count": 6,
   "id": "ca634f6c-e882-41d2-bbfc-0c9d653342a2",
   "metadata": {},
   "outputs": [
    {
     "name": "stdout",
     "output_type": "stream",
     "text": [
      "2\n",
      "4\n",
      "6\n",
      "8\n",
      "10\n"
     ]
    }
   ],
   "source": [
    "list1 = [2, 4, 6, 8, 10, 12, 14, 16, 18, 20]\n",
    "\n",
    "# converting the iterable into an iterator object\n",
    "my_iterator = iter(list1)\n",
    "\n",
    "# traversing the my_iterator object for 5 times using a for loop\n",
    "for i in range(5):\n",
    "    print(next(my_iterator))"
   ]
  },
  {
   "cell_type": "markdown",
   "id": "e0bfc50f-9760-438f-9e9e-7616f5b80721",
   "metadata": {},
   "source": [
    "__Q4. What is a generator function in python? Why yield keyword is used? Give an example of a generator\n",
    "function.__"
   ]
  },
  {
   "cell_type": "markdown",
   "id": "02046550-3d9a-4c51-8a87-b6dd95522ba6",
   "metadata": {},
   "source": [
    "A generator is such a function that acts as an iterator to produce a sequence of values when iterated over. They are memory efficient as they don't produce all the outputs at once.\n",
    "\n",
    "The yield keyword is used to create a generator function. Using yield instead of return in a function will turn it into a generator object. \n",
    "\n",
    "For example:\n",
    "A basic function to produce even numbers upto a limit 'x' will be:\n",
    "```\n",
    "def even_num(x):\n",
    "    num = 0\n",
    "    while num < x:\n",
    "        print num\n",
    "        num += 2\n",
    "even_num()\n",
    "```\n",
    "Now using yield we can create a generator function that will generate even numbers one by one using a loop or multiple next() statements:"
   ]
  },
  {
   "cell_type": "code",
   "execution_count": 7,
   "id": "26ce4c24-0a20-4f3c-92dd-5425fb891631",
   "metadata": {},
   "outputs": [
    {
     "name": "stdout",
     "output_type": "stream",
     "text": [
      "0\n",
      "2\n",
      "4\n",
      "6\n",
      "8\n",
      "10\n",
      "12\n",
      "14\n",
      "16\n",
      "18\n",
      "20\n",
      "22\n",
      "24\n"
     ]
    }
   ],
   "source": [
    "#defining a generator object that returns even numbers\n",
    "def get_even():\n",
    "    num = 0\n",
    "    while True:\n",
    "        yield num\n",
    "        num = num + 2\n",
    "\n",
    "#assigning the generator object to a variable to make it an iterator\n",
    "generator_obj = get_even() \n",
    "\n",
    "# printing 10 even numbers using a for loop\n",
    "for i in range(10):\n",
    "    print(next(generator_obj))\n",
    "    \n",
    "# printing next even numbers using multiple next(<iterator>) statements\n",
    "print(next(generator_obj))\n",
    "print(next(generator_obj))\n",
    "print(next(generator_obj))"
   ]
  },
  {
   "cell_type": "markdown",
   "id": "2aa9f4a4-5c04-4a55-a5a9-6429b7bf36b5",
   "metadata": {},
   "source": [
    "__Q5. Create a generator function for prime numbers less than 1000. Use the next() method to print the\n",
    "first 20 prime numbers.__"
   ]
  },
  {
   "cell_type": "code",
   "execution_count": 9,
   "id": "2020cbb2-6434-4fc7-8c3f-f9acf79cf5e0",
   "metadata": {},
   "outputs": [
    {
     "name": "stdin",
     "output_type": "stream",
     "text": [
      "How many prime numbers to print ?  20\n"
     ]
    },
    {
     "name": "stdout",
     "output_type": "stream",
     "text": [
      "2\n",
      "3\n",
      "4\n",
      "5\n",
      "7\n",
      "9\n",
      "11\n",
      "13\n",
      "17\n",
      "19\n",
      "23\n",
      "25\n",
      "29\n",
      "31\n",
      "37\n",
      "41\n",
      "43\n",
      "47\n",
      "49\n",
      "53\n"
     ]
    }
   ],
   "source": [
    "# defining a generator function that returns all prime numbers between 2 and 1000\n",
    "def print_prime():\n",
    "    for i in range(2,1000):\n",
    "        count = 0\n",
    "        for j in range(2,i):\n",
    "            if i%j == 0:\n",
    "                count += 1\n",
    "            if count > 1:\n",
    "                break\n",
    "        else:\n",
    "            yield i\n",
    "\n",
    "# assigning the prime variable as an iterator object\n",
    "prime = print_prime()\n",
    "\n",
    "# taking user input of the limit of numbers to print\n",
    "limit = int(input(\"How many prime numbers to print ? \"))\n",
    "\n",
    "# printing prime numbers from the iterator object upto 'limit' times using a for loop\n",
    "for i in range(limit):\n",
    "    print(next(prime))"
   ]
  },
  {
   "cell_type": "markdown",
   "id": "caca164b-f6f5-41b5-97a6-4fef85739d87",
   "metadata": {},
   "source": [
    "__Q6. Write a python program to print the first 10 Fibonacci numbers using a while loop.__"
   ]
  },
  {
   "cell_type": "code",
   "execution_count": 12,
   "id": "8bdf887c-08ea-413d-b3b1-6f01a6488672",
   "metadata": {},
   "outputs": [
    {
     "name": "stdout",
     "output_type": "stream",
     "text": [
      "0\n",
      "1\n",
      "1\n",
      "2\n",
      "3\n",
      "5\n",
      "8\n",
      "13\n",
      "21\n",
      "34\n"
     ]
    }
   ],
   "source": [
    "# defining first two numbers of the Fibonacci sequence\n",
    "a = 0\n",
    "b = 1\n",
    "\n",
    "# a counter variable n to control the number of iterations\n",
    "n = 10\n",
    "\n",
    "#while loop to print the Fibonacci sequence.\n",
    "while n > 0:\n",
    "    print(a)\n",
    "    c = a + b\n",
    "    a = b\n",
    "    b = c\n",
    "    n = n - 1"
   ]
  },
  {
   "cell_type": "markdown",
   "id": "3a8cc706-55c7-4e63-8e7d-b9b2149403be",
   "metadata": {},
   "source": [
    "__Q7. Write a List Comprehension to iterate through the given string: ‘pwskills’.\n",
    "Expected output: ['p', 'w', 's', 'k', 'i', 'l', 'l', 's']__"
   ]
  },
  {
   "cell_type": "code",
   "execution_count": 13,
   "id": "dea8a8af-5ee6-4344-8c1c-c6aaf3243786",
   "metadata": {},
   "outputs": [
    {
     "name": "stdin",
     "output_type": "stream",
     "text": [
      "Enter a string:  pwskills\n"
     ]
    },
    {
     "name": "stdout",
     "output_type": "stream",
     "text": [
      "['p', 'w', 's', 'k', 'i', 'l', 'l', 's']\n"
     ]
    }
   ],
   "source": [
    "# taking a string input\n",
    "s = input(\"Enter a string: \")\n",
    "\n",
    "#using list comprehension to iterate through the given string and printing the result\n",
    "print([i for i in s])"
   ]
  },
  {
   "cell_type": "markdown",
   "id": "fb553b31-6e4b-49b6-afbc-dd76c6a07c44",
   "metadata": {},
   "source": [
    "__Q8. Write a python program to check whether a given number is Palindrome or not using a while loop.__"
   ]
  },
  {
   "cell_type": "code",
   "execution_count": 15,
   "id": "87d67511-d24a-417b-9ded-6f69f9a8cf02",
   "metadata": {},
   "outputs": [
    {
     "name": "stdin",
     "output_type": "stream",
     "text": [
      "Enter a number:  12321\n"
     ]
    },
    {
     "name": "stdout",
     "output_type": "stream",
     "text": [
      "12321 is a Palindrome.\n"
     ]
    }
   ],
   "source": [
    "#taking a number as input\n",
    "original_num = int(input(\"Enter a number: \"))\n",
    "\n",
    "#initializing some variables for process\n",
    "reverse = 0\n",
    "num = original_num\n",
    "\n",
    "# while loop to reverse the given number\n",
    "while num > 0:\n",
    "\treverse = reverse * 10\n",
    "\treverse += num%10\n",
    "\tnum = num // 10\n",
    "\n",
    "# checking if reverse is equal to the orginal number or not\n",
    "# and then displaying Palindrome or not accordingly.\n",
    "if reverse == original_num:\n",
    "\tprint(original_num, \"is a Palindrome.\")\n",
    "else:\n",
    "\tprint(original_num, \"is not a Palindrome.\")"
   ]
  },
  {
   "cell_type": "markdown",
   "id": "7a6b6e2f-2ab6-4932-b2eb-905d3db795a1",
   "metadata": {},
   "source": [
    "__Q9. Write a code to print odd numbers from 1 to 100 using list comprehension.\n",
    "Note: Use a list comprehension to create a list from 1 to 100 and use another List comprehension to filter\n",
    "out odd numbers.__"
   ]
  },
  {
   "cell_type": "code",
   "execution_count": 16,
   "id": "0c1e5cf2-66dd-4af4-b505-e7795a06f9a5",
   "metadata": {},
   "outputs": [
    {
     "name": "stdout",
     "output_type": "stream",
     "text": [
      "[1, 3, 5, 7, 9, 11, 13, 15, 17, 19, 21, 23, 25, 27, 29, 31, 33, 35, 37, 39, 41, 43, 45, 47, 49, 51, 53, 55, 57, 59, 61, 63, 65, 67, 69, 71, 73, 75, 77, 79, 81, 83, 85, 87, 89, 91, 93, 95, 97, 99]\n"
     ]
    }
   ],
   "source": [
    "#using list comprehension to create a list of numbers 1 to 100\n",
    "numbers = [i for i in range(1,101)]\n",
    "\n",
    "#using list comprehension to filter out the odd numbers from the list 'numbers'\n",
    "odd_numbers = [i for i in numbers if i%2 != 0]\n",
    "\n",
    "#displaying the odd numbers list\n",
    "print(odd_numbers)"
   ]
  }
 ],
 "metadata": {
  "kernelspec": {
   "display_name": "Python 3 (ipykernel)",
   "language": "python",
   "name": "python3"
  },
  "language_info": {
   "codemirror_mode": {
    "name": "ipython",
    "version": 3
   },
   "file_extension": ".py",
   "mimetype": "text/x-python",
   "name": "python",
   "nbconvert_exporter": "python",
   "pygments_lexer": "ipython3",
   "version": "3.10.8"
  }
 },
 "nbformat": 4,
 "nbformat_minor": 5
}
