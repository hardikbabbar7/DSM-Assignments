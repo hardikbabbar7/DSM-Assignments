{
 "cells": [
  {
   "cell_type": "markdown",
   "id": "683e86aa-a5ef-4b41-8b9f-d2daa2d99f6c",
   "metadata": {
    "tags": []
   },
   "source": [
    "1. Write a program to accept percentage from the user and display the grade according to the following criteria: \n",
    "\n",
    "|Marks|Grade|\n",
    "|:---|:---|\n",
    "|>90|A|\n",
    "|>80 and <=90|B|\n",
    "|>= 60 and <= 80|C|\n",
    "|below 60|D|\n"
   ]
  },
  {
   "cell_type": "code",
   "execution_count": 1,
   "id": "8c1f1f56-1c07-41c3-b65b-ea8bb9a0e873",
   "metadata": {},
   "outputs": [
    {
     "name": "stdin",
     "output_type": "stream",
     "text": [
      "Enter your percentage:  86\n"
     ]
    },
    {
     "name": "stdout",
     "output_type": "stream",
     "text": [
      "Your grade is : B\n"
     ]
    }
   ],
   "source": [
    "percentage = int(input(\"Enter your percentage: \"))\n",
    "\n",
    "#if-else block to assign grade as per percentage\n",
    "if percentage > 90:\n",
    "    grade = 'A'\n",
    "elif percentage > 80 and percentage <=90:\n",
    "    grade = 'B'\n",
    "elif percentage >= 60 and percentage <=80:\n",
    "    grade = 'C'\n",
    "else:\n",
    "    grade = 'D'\n",
    "\n",
    "print('Your grade is :',grade)"
   ]
  },
  {
   "cell_type": "markdown",
   "id": "24422329-ee21-45e1-bdfb-fa575fe254de",
   "metadata": {},
   "source": [
    "2. Write a program to accept the cost price of a bike and display the road tax to be paid according to the following criteria: \n",
    "\n",
    "|Tax|Cost Price(in Rs)|\n",
    "|:---|:---|\n",
    "|15%|>100000|\n",
    "|10%|>50000 and <= 100000|\n",
    "|5%|<=50000|"
   ]
  },
  {
   "cell_type": "code",
   "execution_count": 2,
   "id": "925a8563-7341-4108-9d89-0950f87510f9",
   "metadata": {},
   "outputs": [
    {
     "name": "stdin",
     "output_type": "stream",
     "text": [
      "Enter cost price of the bike : 180000\n"
     ]
    },
    {
     "name": "stdout",
     "output_type": "stream",
     "text": [
      "Road tax to be paid for this bike : 27000.0\n"
     ]
    }
   ],
   "source": [
    "costprice = int(input(\"Enter cost price of the bike :\"))\n",
    "\n",
    "#if-else block to assign tax percent depending on bike's cost price\n",
    "if costprice > 100000:\n",
    "    tax_percent = 15\n",
    "elif costprice <= 100000 and costprice > 50000:\n",
    "    tax_percent = 10\n",
    "else:\n",
    "    tax_percent = 5\n",
    "roadtax = costprice * tax_percent/100\n",
    "print(\"Road tax to be paid for this bike :\",roadtax)"
   ]
  },
  {
   "cell_type": "markdown",
   "id": "2211fc96-6b38-4f12-b504-05183ef5ea3a",
   "metadata": {},
   "source": [
    "3. Accept any city from the user and display monuments of that city. \n",
    "\n",
    "|City|Monument|\n",
    "|:---|:---|\n",
    "|Delhi|Red Fort\n",
    "|Agra|Taj Mahal|\n",
    "|Jaipur|Jal Mahal|"
   ]
  },
  {
   "cell_type": "code",
   "execution_count": 3,
   "id": "c81fce1a-4e16-4055-ba7d-f77b9fb10005",
   "metadata": {},
   "outputs": [
    {
     "name": "stdin",
     "output_type": "stream",
     "text": [
      "Enter your city :  jaipur\n"
     ]
    },
    {
     "name": "stdout",
     "output_type": "stream",
     "text": [
      "Jal Mahal\n"
     ]
    }
   ],
   "source": [
    "city = input(\"Enter your city : \").capitalize()\n",
    "\n",
    "#if-else block to displau monument of different cities\n",
    "if city == 'Delhi':\n",
    "    print(\"Red Fort\")\n",
    "elif city == 'Agra':\n",
    "    print(\"Taj Mahal\")\n",
    "elif city == 'Jaipur':\n",
    "    print(\"Jal Mahal\")\n",
    "else:\n",
    "    print(\"No information available :(\")"
   ]
  },
  {
   "cell_type": "markdown",
   "id": "f43bac55-9d16-4302-bcd9-d3a22d09680b",
   "metadata": {},
   "source": [
    "4. Check how many times a given number can be divided by 3 before it is less than or equal to 10."
   ]
  },
  {
   "cell_type": "code",
   "execution_count": 4,
   "id": "85ffc72a-0571-4699-bfd9-1c62221e219b",
   "metadata": {},
   "outputs": [
    {
     "name": "stdin",
     "output_type": "stream",
     "text": [
      "Enter a number :  102\n"
     ]
    },
    {
     "name": "stdout",
     "output_type": "stream",
     "text": [
      "102 can be divided by 3 for 3 times until it is less than 10\n"
     ]
    }
   ],
   "source": [
    "num = int(input(\"Enter a number : \"))\n",
    "count = 0 #variable to count the number of possible divisions\n",
    "temp = num #copying the original number to a temporary variable for operating on it\n",
    "while temp > 10:  # will stop if temp goes below 10\n",
    "    count = count + 1\n",
    "    temp = temp / 3\n",
    "print(f'{num} can be divided by 3 for {count} times until it is less than 10')"
   ]
  },
  {
   "cell_type": "markdown",
   "id": "d8e7c74e-b32b-4f64-a1fb-5844dc805ee5",
   "metadata": {},
   "source": [
    "5. Why and When to Use while Loop in Python give a detailed description with example"
   ]
  },
  {
   "cell_type": "markdown",
   "id": "d30c51ab-7039-4579-8dfc-2fdd232f114b",
   "metadata": {},
   "source": [
    "The while loop in Python is used to execute a block of code as long as the condition specified at the beginning of the loop remains true. The while loop can be used to repeatedly execute a code block until certain conditions are met.\n",
    "\n",
    "Here is an example syntax for using a while loop in Python:\n",
    "```\n",
    "while <conditionforloop>: \n",
    "    # code block inside the while loop \n",
    "    # execute this block as long as condition is true \n",
    "\n",
    "    # After completing the above code block, go back andcheck condition again and repeat until it fails \n",
    "\n",
    "    # Once condition evaluates as false, exit from the loop \n",
    "```\n",
    "In Python, there is no direct way to limit the number of iterations for a given loop so that it stops automatically like for loops. This places more responsibility on us, the programmer, to make sure we have provided an appropriate condition that will eventually evaluate to false and terminate our loop if it runs too long. However, if we forget or neglect to provide such a condition, our program could be stuck in an infinite loop! Therefore caution should be exercised when using while loops in Python.     \n",
    "\n",
    "Example: Say you want your program to repeatedly print out all numbers up until 10: "
   ]
  },
  {
   "cell_type": "code",
   "execution_count": 5,
   "id": "df2c2885-204e-42f5-bb6a-9e531e47eed3",
   "metadata": {},
   "outputs": [
    {
     "name": "stdout",
     "output_type": "stream",
     "text": [
      "1\n",
      "2\n",
      "3\n",
      "4\n",
      "5\n",
      "6\n",
      "7\n",
      "8\n",
      "9\n",
      "10\n"
     ]
    }
   ],
   "source": [
    "n = 1  # Set your counter before starting the while loop \n",
    "\n",
    "while n <= 10:   # Set your conditional statement \n",
    "\n",
    "    print(n)   # Run whatever operations you would like each time within this block of code which matches with your conditional statement \n",
    "\n",
    "    n += 1   # Increase your variable by 1 each time after executing driver code (optional)"
   ]
  },
  {
   "cell_type": "markdown",
   "id": "1dd0604f-1c1b-4036-b2c9-4c2ea377aa31",
   "metadata": {},
   "source": [
    "6. Use nested while loop to print 3 different pattern."
   ]
  },
  {
   "cell_type": "code",
   "execution_count": 6,
   "id": "a30e7b93-ca7f-41fa-b8c4-6bc12fee5880",
   "metadata": {},
   "outputs": [
    {
     "name": "stdin",
     "output_type": "stream",
     "text": [
      "Enter a number:  9\n"
     ]
    },
    {
     "name": "stdout",
     "output_type": "stream",
     "text": [
      "1\n",
      "12\n",
      "123\n",
      "1234\n",
      "12345\n",
      "123456\n",
      "1234567\n",
      "12345678\n",
      "123456789\n"
     ]
    }
   ],
   "source": [
    "#Pattern 1: Prints a pyramid\n",
    "n = int(input(\"Enter a number: \"))\n",
    "i = 1\n",
    "while i <= n:\n",
    "    j = 1\n",
    "    while j <= i:\n",
    "        print(j, end = '')\n",
    "        j += 1\n",
    "    print()\n",
    "    i += 1"
   ]
  },
  {
   "cell_type": "code",
   "execution_count": 7,
   "id": "3c3b45ae-8aa9-4ef3-94cd-c31256edca0a",
   "metadata": {},
   "outputs": [
    {
     "name": "stdin",
     "output_type": "stream",
     "text": [
      "Enter a number:  10\n"
     ]
    },
    {
     "name": "stdout",
     "output_type": "stream",
     "text": [
      "# # # # # # # # # # \n",
      "# # # # # # # # # # \n",
      "# # # # # # # # # # \n",
      "# # # # # # # # # # \n",
      "# # # # # # # # # # \n",
      "# # # # # # # # # # \n",
      "# # # # # # # # # # \n",
      "# # # # # # # # # # \n",
      "# # # # # # # # # # \n",
      "# # # # # # # # # # \n"
     ]
    }
   ],
   "source": [
    "#Pattern 2: Print square pattern of side length n\n",
    "n = int(input(\"Enter a number: \"))\n",
    "i = 1\n",
    "while i <= n:\n",
    "    j = 1\n",
    "    while j <= n :\n",
    "        print('# ', end = '')\n",
    "        j += 1\n",
    "    print()\n",
    "    i += 1"
   ]
  },
  {
   "cell_type": "code",
   "execution_count": 8,
   "id": "d245f38b-5bc8-45fe-ad16-6f7c424c2b34",
   "metadata": {},
   "outputs": [
    {
     "name": "stdin",
     "output_type": "stream",
     "text": [
      "Enter a number:  5\n"
     ]
    },
    {
     "name": "stdout",
     "output_type": "stream",
     "text": [
      " 11111\n",
      "  2222\n",
      "   333\n",
      "    44\n",
      "     5\n"
     ]
    }
   ],
   "source": [
    "#Pattern 3: Prints an inverted pyramid\n",
    "n = int(input(\"Enter a number: \"))\n",
    "i = 1\n",
    "while i <= n:\n",
    "    j = n\n",
    "    print(' '*i, end='')\n",
    "    while i <= j:\n",
    "        print(i, end = '')\n",
    "        j -= 1     \n",
    "    print()\n",
    "    i += 1"
   ]
  },
  {
   "cell_type": "markdown",
   "id": "ffe4c26e-7037-4773-8a7d-117604062f17",
   "metadata": {},
   "source": [
    "7. Reverse a while loop to display numbers from 10 to 1."
   ]
  },
  {
   "cell_type": "markdown",
   "id": "54f4a380-be5a-4783-ae97-209f74850886",
   "metadata": {},
   "source": [
    "8. Reverse a while loop to display numbers from 10 to 1."
   ]
  },
  {
   "cell_type": "code",
   "execution_count": 9,
   "id": "3b174fc7-5114-4ed5-94cc-d6f2af88dfeb",
   "metadata": {},
   "outputs": [
    {
     "name": "stdout",
     "output_type": "stream",
     "text": [
      "10\n",
      "9\n",
      "8\n",
      "7\n",
      "6\n",
      "5\n",
      "4\n",
      "3\n",
      "2\n",
      "1\n"
     ]
    }
   ],
   "source": [
    "#question 7 and 8 are same.\n",
    "i = 10\n",
    "while i >= 1:\n",
    "    print(i)\n",
    "    i -= 1"
   ]
  }
 ],
 "metadata": {
  "kernelspec": {
   "display_name": "Python 3 (ipykernel)",
   "language": "python",
   "name": "python3"
  },
  "language_info": {
   "codemirror_mode": {
    "name": "ipython",
    "version": 3
   },
   "file_extension": ".py",
   "mimetype": "text/x-python",
   "name": "python",
   "nbconvert_exporter": "python",
   "pygments_lexer": "ipython3",
   "version": "3.10.8"
  }
 },
 "nbformat": 4,
 "nbformat_minor": 5
}
