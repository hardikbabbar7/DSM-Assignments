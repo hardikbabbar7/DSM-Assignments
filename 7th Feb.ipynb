{
 "cells": [
  {
   "cell_type": "code",
   "execution_count": 11,
   "id": "eb8089f7-e12c-4655-ab99-81454ee782e8",
   "metadata": {},
   "outputs": [
    {
     "name": "stdin",
     "output_type": "stream",
     "text": [
      "Enter Password:  Hi!@My$999\n"
     ]
    },
    {
     "name": "stdout",
     "output_type": "stream",
     "text": [
      "Valid Password\n"
     ]
    }
   ],
   "source": [
    "'''\n",
    "Q1. You are writing code for a company. The requirement of the company is that you create \n",
    "    a python function that will check whether the password entered by the user is correct or not. \n",
    "    The function should take password as input and return the string \"Valid Password\" if the entered \n",
    "    password follows the below-given password guidelines else it should return \"Invalid Password\".\n",
    "\n",
    "Note: \n",
    "1. The Password should contain at least two uppercase letters and at least two lowercase letters.\n",
    "2. The Password should contain at least a number and three special characters. \n",
    "3. The length of the password should be 10 characters long.\n",
    "'''\n",
    "#Answer1:-\n",
    "\n",
    "def check_pass(password):\n",
    "    \n",
    "    count_upper = count_lower = count_num = count_special = 0\n",
    "    if len(password) != 10: # checks if length of input password is 10  or not\n",
    "        return \"Invalid Password\"\n",
    "    \n",
    "    for i in password:\n",
    "        if i.isnumeric(): #checks if i is a number, if true increment count_num\n",
    "            count_num += 1\n",
    "        elif i.isalpha(): #checks if i is an alphabet\n",
    "            if i.isupper(): #check if alphabet is upper, if true increment count_upper\n",
    "                count_upper += 1\n",
    "            else:                #checks if alphabet is lower, if true increment count_lower\n",
    "                count_lower += 1\n",
    "        else: # if i is neither a number nor an alphabet, increment count_special\n",
    "            count_special += 1\n",
    "    \n",
    "    if count_upper >= 2 and count_lower >= 2 and count_num >= 1 and count_special >= 3: # matches the password guidelines, if true return valid \n",
    "        return \"Valid Password\"\n",
    "    return \"Invalid Password\"\n",
    "\n",
    "passw = input(\"Enter Password: \")\n",
    "print(check_pass(passw)) # 'Hi!@My$999' returns 'Valid Password' but 'strongpass' returns 'Invalid Password'"
   ]
  },
  {
   "cell_type": "code",
   "execution_count": 2,
   "id": "70bcb5cd-a0cc-4a7f-a249-4cbead941f63",
   "metadata": {},
   "outputs": [
    {
     "name": "stdout",
     "output_type": "stream",
     "text": [
      "True\n",
      "False\n"
     ]
    }
   ],
   "source": [
    "'''\n",
    "Q2. Solve the below-given questions using at least one of \n",
    "    the following:\n",
    "\n",
    "1. Lambda function\n",
    "2. Filter function\n",
    "3. Map function\n",
    "4. List Comprehension\n",
    "\n",
    "# Check if the string starts with a particular letter.\n",
    "# Check if the string is numeric.\n",
    "# Sort a list of tuples having fruit names and their quantity. \n",
    "    [(\"mango\",99), (\"orange\",80), (\"grapes\", 1000)]\n",
    "# Find the squares of numbers from 1 to 10.\n",
    "# Find the cube root of numbers from 1 to 10.\n",
    "# Check if a given number is even.\n",
    "# Filter odd numbers from the given list.\n",
    "    [1,2,3,4,5,6,7,8,9,10]\n",
    "# Sort a list of integers into positive and negative integers lists.\n",
    "    [1,2,3,4,5,6,-1,-2,-3,-4,-5,0]\n",
    "'''\n",
    "#Answer2:-\n",
    "\n",
    "# Check if the string starts with a particular letter.\n",
    "string = 'Aman'\n",
    "letter1 = 'A'\n",
    "letter2 = 'B'\n",
    "check_start = lambda s,l : s.startswith(l)\n",
    "print(check_start(string,letter1))\n",
    "print(check_start(string,letter2))"
   ]
  },
  {
   "cell_type": "code",
   "execution_count": 4,
   "id": "cd5e51e2-5162-40f5-b3e8-b21dc1c29165",
   "metadata": {},
   "outputs": [
    {
     "name": "stdin",
     "output_type": "stream",
     "text": [
      "Enter text : 65465465\n"
     ]
    },
    {
     "name": "stdout",
     "output_type": "stream",
     "text": [
      "65465465 is numeric.\n"
     ]
    }
   ],
   "source": [
    "# Check if the string is numeric.\n",
    "check_num = lambda s: s.isnumeric() \n",
    "text = input(\"Enter text :\")\n",
    "\n",
    "if check_num(text):\n",
    "    print(f'{text} is numeric.')\n",
    "else:\n",
    "    print(f'{text} is not numeric.')\n"
   ]
  },
  {
   "cell_type": "code",
   "execution_count": 5,
   "id": "c4eef18a-342a-46d3-9805-b1ce2231796b",
   "metadata": {},
   "outputs": [
    {
     "name": "stdout",
     "output_type": "stream",
     "text": [
      "[('orange', 80), ('mango', 99), ('grapes', 1000)]\n"
     ]
    }
   ],
   "source": [
    "# Sort a list of tuples having fruit names and their quantity. \n",
    "# [(\"mango\",99), (\"orange\",80), (\"grapes\", 1000)]\n",
    "\n",
    "fruit_list = [(\"mango\",99), (\"orange\",80), (\"grapes\", 1000)]\n",
    "print(sorted(fruit_list , key = lambda x: x[1]) ) #sorted the fruit list by ascending order of its quantity "
   ]
  },
  {
   "cell_type": "code",
   "execution_count": 6,
   "id": "b96f3d0f-7f79-4912-9dc3-66fdc993ac54",
   "metadata": {},
   "outputs": [
    {
     "name": "stdout",
     "output_type": "stream",
     "text": [
      "Squares of numbers from 1 to 10 are : [1, 4, 9, 16, 25, 36, 49, 64, 81, 100]\n"
     ]
    }
   ],
   "source": [
    "# Find the squares of numbers from 1 to 10.\n",
    "\n",
    "list1 = [i for i in range(1,11)]\n",
    "squares = list(map(lambda x: x**2, list1))\n",
    "print(\"Squares of numbers from 1 to 10 are :\",squares)"
   ]
  },
  {
   "cell_type": "code",
   "execution_count": 7,
   "id": "30ced22c-6c04-4066-bfba-9e918bc4d8e1",
   "metadata": {},
   "outputs": [
    {
     "name": "stdout",
     "output_type": "stream",
     "text": [
      "Cube roots of numbers from 1 to 10 are : [1.0, 1.2599210498948732, 1.4422495703074083, 1.5874010519681994, 1.7099759466766968, 1.8171205928321397, 1.912931182772389, 2.0, 2.080083823051904, 2.154434690031884]\n"
     ]
    }
   ],
   "source": [
    "# Find the cube root of numbers from 1 to 10.\n",
    "\n",
    "list2 = [i for i in range(1,11)]\n",
    "cuberoots = list(map(lambda x: x**(1/3), list2))\n",
    "print(\"Cube roots of numbers from 1 to 10 are :\",cuberoots)"
   ]
  },
  {
   "cell_type": "code",
   "execution_count": 8,
   "id": "dc8cd36c-b7fc-4764-8017-85d23a8974ca",
   "metadata": {},
   "outputs": [
    {
     "name": "stdin",
     "output_type": "stream",
     "text": [
      "Enter a number:  8454646\n"
     ]
    },
    {
     "name": "stdout",
     "output_type": "stream",
     "text": [
      "Is 8454646 even? : True\n"
     ]
    }
   ],
   "source": [
    "# Check if a given number is even.\n",
    "\n",
    "num = int(input(\"Enter a number: \"))\n",
    "check_even = lambda num : num%2 == 0\n",
    "print(f\"Is {num} even? : {check_even(num)}\")\n"
   ]
  },
  {
   "cell_type": "code",
   "execution_count": 9,
   "id": "e6ffda7a-ef49-4f81-afe6-890aaecee782",
   "metadata": {},
   "outputs": [
    {
     "name": "stdout",
     "output_type": "stream",
     "text": [
      "Odd numbers in the given list : [1, 3, 5, 7, 9]\n"
     ]
    }
   ],
   "source": [
    "# Filter odd numbers from the given list.\n",
    "#   [1,2,3,4,5,6,7,8,9,10]\n",
    "\n",
    "l = [1,2,3,4,5,6,7,8,9,10]\n",
    "odd_list = list(filter(lambda n : n%2 != 0, l))\n",
    "print ('Odd numbers in the given list :', odd_list)"
   ]
  },
  {
   "cell_type": "code",
   "execution_count": 10,
   "id": "9b3d083f-e2cd-4ebd-9996-a5722a95295a",
   "metadata": {},
   "outputs": [
    {
     "name": "stdout",
     "output_type": "stream",
     "text": [
      "Positive integers : [1, 2, 3, 4, 5, 6, 0]\n",
      "Negative integers : [-1, -2, -3, -4, -5]\n"
     ]
    }
   ],
   "source": [
    "# Sort a list of integers into positive and negative integers lists.\n",
    "#   [1,2,3,4,5,6,-1,-2,-3,-4,-5,0]\n",
    "\n",
    "l = [1,2,3,4,5,6,-1,-2,-3,-4,-5,0]\n",
    "\n",
    "pos_list = list(filter(lambda x : x>=0 , l))\n",
    "neg_list = list(filter(lambda x : x< 0 , l))\n",
    "print('Positive integers :',pos_list)\n",
    "print('Negative integers :',neg_list)"
   ]
  }
 ],
 "metadata": {
  "kernelspec": {
   "display_name": "Python 3 (ipykernel)",
   "language": "python",
   "name": "python3"
  },
  "language_info": {
   "codemirror_mode": {
    "name": "ipython",
    "version": 3
   },
   "file_extension": ".py",
   "mimetype": "text/x-python",
   "name": "python",
   "nbconvert_exporter": "python",
   "pygments_lexer": "ipython3",
   "version": "3.10.8"
  }
 },
 "nbformat": 4,
 "nbformat_minor": 5
}
