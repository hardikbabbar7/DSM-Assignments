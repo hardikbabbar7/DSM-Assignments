{
 "cells": [
  {
   "cell_type": "code",
   "execution_count": null,
   "id": "2b40f099-2858-4f9f-ac9c-daea66ded6d2",
   "metadata": {},
   "outputs": [],
   "source": [
    "'''First Assignment; Date - 29th Jan'23; Topic- Introduction to Python'''"
   ]
  },
  {
   "cell_type": "code",
   "execution_count": null,
   "id": "6e377f11-f279-4ed0-ba52-4a76c2423a47",
   "metadata": {},
   "outputs": [],
   "source": [
    "'''\n",
    "1. Who developed Python Programming Language?\n",
    "'''\n",
    "\n",
    "\"\"\"\n",
    "Python language is designed by a Dutch programmer Guido van Rossum in the Netherlands.\n",
    "\n",
    "\"\"\""
   ]
  },
  {
   "cell_type": "code",
   "execution_count": null,
   "id": "74b0fb16-0fb9-4030-819b-d47e272a6df2",
   "metadata": {},
   "outputs": [],
   "source": [
    "'''\n",
    "2. Which type of Programming does Python support?\n",
    "'''\n",
    "\n",
    "\"\"\"\n",
    "Python is an interpreted programming language, which supports object-oriented, structured, and functional programming.\n",
    "\n",
    "\"\"\""
   ]
  },
  {
   "cell_type": "code",
   "execution_count": null,
   "id": "f596935e-fe5c-4002-959d-5819689214c1",
   "metadata": {},
   "outputs": [],
   "source": [
    "'''\n",
    "3. Is Python case sensitive when dealing with identifiers?\n",
    "'''\n",
    "\n",
    "\"\"\"\n",
    "Yes, Python is a case-sensitive language, i.e., it treats uppercase\n",
    "and lowercase characters differently. This applies to identifiers too.\n",
    "\n",
    "\"\"\""
   ]
  },
  {
   "cell_type": "code",
   "execution_count": null,
   "id": "132ec0da-fa7a-441b-8a4d-82c8d6590cf5",
   "metadata": {},
   "outputs": [],
   "source": [
    "'''\n",
    "4. What is the correct extension of the python file?\n",
    "'''\n",
    "\n",
    "\"\"\"\n",
    "'.py' is the correct extension of the python file.Python programs can be written in any text editor. \n",
    "To save these programs we need to save in files with file extension ‘.py’.\n",
    "\n",
    "\"\"\""
   ]
  },
  {
   "cell_type": "code",
   "execution_count": null,
   "id": "9f2fe24f-cbe8-4e72-a8ca-59b135bc9005",
   "metadata": {},
   "outputs": [],
   "source": [
    "'''\n",
    "5.Is Python code compiled or interpreted?\n",
    "'''\n",
    "\n",
    "\"\"\"\n",
    "Python is an interpreted language, which means the source code of a Python program is\n",
    "converted into bytecode that is then executed by the Python virtual machine.\n",
    "\n",
    "\"\"\""
   ]
  },
  {
   "cell_type": "code",
   "execution_count": null,
   "id": "2f4a2e08-4209-4122-b20b-0ee3c497e617",
   "metadata": {},
   "outputs": [],
   "source": [
    "'''\n",
    "6. Name a few blocks of code used to define in Python language?\n",
    "'''\n",
    "\n",
    "\"\"\"\n",
    "In Python, to define a block of code we use indentation. Indentation refers to whitespaces at the beginning of the line.\n",
    "There are various types of blocks of code in Python such as:\n",
    "for (loop block),\n",
    "while (loop block),\n",
    "def (function block),\n",
    "class (class definition block),\n",
    "if and else (conditional blocks) etc.\n",
    "\n",
    "\"\"\""
   ]
  },
  {
   "cell_type": "code",
   "execution_count": null,
   "id": "8b366712-a951-477f-b493-47c272a69c1a",
   "metadata": {},
   "outputs": [],
   "source": [
    "'''\n",
    "7. State a character used to give single-line comments in Python?\n",
    "'''\n",
    "\n",
    "\"\"\"\n",
    "To write single-line comments in Python use the Hash character (#) at the beginning of the line. \n",
    "It is also called number sign or pound sign.\n",
    "For example:\n",
    "# this is a single line comment\n",
    "# this is another single line comment\n",
    "    \n",
    "\"\"\""
   ]
  },
  {
   "cell_type": "code",
   "execution_count": null,
   "id": "03cc7732-082e-4480-b0a6-b193386bb152",
   "metadata": {},
   "outputs": [],
   "source": [
    "'''\n",
    "8. Mention functions which can help us to find the version of python that we are currently working on?\n",
    "'''\n",
    "\n",
    "\"\"\"\n",
    "There are various methods to find the version of python that we are working on:\n",
    "    By importing sys module:\n",
    "        sys.version\n",
    "        sys.version_info\n",
    "    By importing platform module:\n",
    "        platform.python_version()\n",
    "        platform.python_version_tuple()\n",
    "    \n",
    "The function sys.version can help us to find the version of python that we are currently working on. \n",
    "It also contains information on the build number and compiler used. For example, 3.5.2, 2.7.3 etc. \n",
    "(this function also returns the current date, time, bits etc along with the version.)\n",
    "\n",
    "\"\"\""
   ]
  },
  {
   "cell_type": "code",
   "execution_count": null,
   "id": "e1cad213-9758-49ce-b09b-177725faef97",
   "metadata": {},
   "outputs": [],
   "source": [
    "'''\n",
    "9. Python supports the creation of anonymous functions at runtime, using a construct called _________\n",
    "'''\n",
    "\n",
    "\"\"\"\n",
    "Python supports the creation of anonymous functions (i.e. functions that are not bound to a name) at runtime, using a construct called lambda. \n",
    "Lambda functions are restricted to a single expression. They can be used wherever normal functions can be used.\n",
    "For example:\n",
    "    lambda x : x**2   #an anonymous function that returns square of every number x that is passed to it\n",
    "\n",
    "\"\"\""
   ]
  },
  {
   "cell_type": "code",
   "execution_count": null,
   "id": "1433e4be-2a80-40e8-bb47-1f65f2390ff0",
   "metadata": {},
   "outputs": [],
   "source": [
    "'''\n",
    "10. What does pip stand for python?\n",
    "'''\n",
    "\n",
    "\"\"\"\n",
    "pip is also called Preferred Installer Program, which is a package manager for python.\n",
    "\n",
    "\"\"\""
   ]
  },
  {
   "cell_type": "code",
   "execution_count": null,
   "id": "c2dd783e-17ef-4bac-bd09-f30527079434",
   "metadata": {},
   "outputs": [],
   "source": [
    "'''\n",
    "11. Mention a few built-in functions in python?\n",
    "'''\n",
    "\n",
    "\"\"\"\n",
    "A few built-in functions in python are mentioned below:\n",
    "    1) print() function - used to display objects such as integers,lists,tuples etc\n",
    "    2) type() function - used to check datatype of an entity\n",
    "    3) len() function - used to find the length of an iterable\n",
    "    4) range() function - used to generate a range of integers for a given range\n",
    "    5) input() function - used to obtain user input\n",
    "\n",
    "\"\"\""
   ]
  },
  {
   "cell_type": "code",
   "execution_count": null,
   "id": "d6c45cb2-d7fa-4471-801c-8a45cafd1644",
   "metadata": {},
   "outputs": [],
   "source": [
    "'''\n",
    "12. What is the maximum possible length of an identifier in Python?\n",
    "'''\n",
    "\n",
    "\"\"\"\n",
    "Python gives the identifiers unlimited length.\n",
    "However the layout of PEP-8 (a document that provides guidelines and best practices on how to write Python code,\n",
    "written in 2001 by Guido van Rossum) prevents the user from breaking the rules and includes a 79-character limit.\n",
    "\n",
    "\"\"\""
   ]
  },
  {
   "cell_type": "code",
   "execution_count": null,
   "id": "3065b9d0-efaf-4833-94d1-0aa5dbe6ecec",
   "metadata": {},
   "outputs": [],
   "source": [
    "'''\n",
    "13. What are the benifits of using Python?\n",
    "'''\n",
    "\n",
    "\"\"\"\n",
    "Python is one of the most popular and rapidly growing programming languages. Python is a programming language that is powerful, adaptable, and easy to learn. Python also has a vibrant community.\n",
    "It has been at the forefront of cutting-edge technologies such as artificial intelligence, automation, and deep learning. It is also used to help with data analysis and visualization. \n",
    "Below are some more features of Python that make it benificial:\n",
    "    *Python is Free and Open-Source\n",
    "    *Python is Easy to Learn, Code and Implement\n",
    "    *Python is Fast, Flexible and Portable\n",
    "    *Python Supports Multiple Domains\n",
    "    *Python follows both Procedural and OOP Coding Patterns\n",
    "    *Python also Supports Scientific Libraries\n",
    "    \n",
    "\"\"\""
   ]
  },
  {
   "cell_type": "code",
   "execution_count": null,
   "id": "dcd9be9a-74f6-4121-ac36-a15f5956d92a",
   "metadata": {},
   "outputs": [],
   "source": [
    "'''\n",
    "14. How is memory managed in Python?\n",
    "'''\n",
    "\n",
    "\"\"\"\n",
    "Memory in Python is managed by Python private heap space. All Python objects and data structures are located in a private heap. \n",
    "This private heap is taken care of by Python Interpreter itself, and a programmer doesn't have access to this private heap.\n",
    "\n",
    "\"\"\""
   ]
  },
  {
   "cell_type": "code",
   "execution_count": null,
   "id": "19fc65c9-14c0-43b2-bb4c-d84ca7f6f057",
   "metadata": {},
   "outputs": [],
   "source": [
    "'''\n",
    "15. How to install Python on Windows and set path variables?\n",
    "'''\n",
    "\n",
    "\"\"\"\n",
    "Below are the steps to install Python on Windows and then set path variables:\n",
    "1- For installing Python from Python.org:\n",
    "    *First we go on Python.org at the section where we can download the windows executables:\n",
    "    *https://www.python.org/downloads/windows/\n",
    "    *Then we down in the page and download the following executable (if our computer is 64-bits, or otherwise a 32-bit one one):\n",
    "    *Windows x86-64 executable installer\n",
    "    *Double click on the executable and install it\n",
    "    \n",
    "2- To set the path variable we need to follow these steps:\n",
    "    *We need to right click on My Computer ->Properties ->Advanced System setting ->Environment Variable ->New\n",
    "    *In Variable name we write: path and in variable: value, we copy path up to C://Python(i.e., path where Python is installed). \n",
    "    *Then we Click Ok ->Ok.\n",
    "    *Path will be set for executing Python programs.\n",
    "    \n",
    "\"\"\""
   ]
  },
  {
   "cell_type": "code",
   "execution_count": null,
   "id": "30af5512-050e-4e63-b1c7-3249b42e664e",
   "metadata": {},
   "outputs": [],
   "source": [
    "'''\n",
    "16. Is indentation required in python?\n",
    "'''\n",
    "\n",
    "\"\"\"\n",
    "The indentation in Python is very important. It is because Python uses indentation to indicate a block of code.\n",
    "\n",
    "\"\"\""
   ]
  }
 ],
 "metadata": {
  "kernelspec": {
   "display_name": "Python 3 (ipykernel)",
   "language": "python",
   "name": "python3"
  },
  "language_info": {
   "codemirror_mode": {
    "name": "ipython",
    "version": 3
   },
   "file_extension": ".py",
   "mimetype": "text/x-python",
   "name": "python",
   "nbconvert_exporter": "python",
   "pygments_lexer": "ipython3",
   "version": "3.10.8"
  }
 },
 "nbformat": 4,
 "nbformat_minor": 5
}
