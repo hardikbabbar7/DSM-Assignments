{
 "cells": [
  {
   "cell_type": "markdown",
   "id": "fe2a0e1a-81da-4575-a98b-970e77c1807d",
   "metadata": {},
   "source": [
    "### PW Skills - Data Science Masters\n",
    "##### Assignment by: Hardik Singh Babbar"
   ]
  },
  {
   "cell_type": "markdown",
   "id": "7e47099b-9851-4354-b124-94a1bcdb9f0b",
   "metadata": {},
   "source": [
    "__Q1. Explain with an example each when to use a for loop and a while loop.__"
   ]
  },
  {
   "cell_type": "markdown",
   "id": "a73102a4-017a-4b17-92b1-a754cdac7989",
   "metadata": {
    "tags": []
   },
   "source": [
    "A for loop is used when we need to iterate through a list of items (present in any iterable). The code inside the for loop will run once for each item in the list.\n",
    "\n",
    "A while loop is used when we need to repeat a certain block of code while a certain condition is met. The code inside the while loop will run as long as the condition is met.\n",
    "\n",
    "For Loop Example:"
   ]
  },
  {
   "cell_type": "code",
   "execution_count": 1,
   "id": "5721e54f-fb3e-4918-84e0-e407e2084a3f",
   "metadata": {},
   "outputs": [
    {
     "name": "stdout",
     "output_type": "stream",
     "text": [
      "Ratan Tata\n",
      "Bill Gates\n",
      "Jeff Bezoz\n",
      "Steve Jobs\n",
      "Elon Musk\n"
     ]
    }
   ],
   "source": [
    "# This one displays names from a list.\n",
    "names = ['ratan tata', 'bill gates', 'jeff bezoz', 'steve jobs', 'elon musk']\n",
    "for i in names: # i variable takes a value one by one from the iterable 'names'\n",
    "\tprint(i.title())"
   ]
  },
  {
   "cell_type": "code",
   "execution_count": 2,
   "id": "deb469e2-d426-42d1-b723-8ea8554a3877",
   "metadata": {},
   "outputs": [
    {
     "name": "stdout",
     "output_type": "stream",
     "text": [
      "0\n",
      "1\n",
      "2\n",
      "3\n",
      "4\n"
     ]
    }
   ],
   "source": [
    "# Here it displays a number sequence\n",
    "for i in range(5): # here range generates an iterable sequence of numbers which is being traversed using for loop\n",
    "\tprint(i)"
   ]
  },
  {
   "cell_type": "markdown",
   "id": "1051c328-2679-40a4-8516-a97751402b09",
   "metadata": {},
   "source": [
    "While Loop Example: "
   ]
  },
  {
   "cell_type": "code",
   "execution_count": 3,
   "id": "7a9acc64-3aa3-49a7-ab79-9164e740b565",
   "metadata": {},
   "outputs": [
    {
     "name": "stdin",
     "output_type": "stream",
     "text": [
      "What is your name? Ashish\n",
      "What is your name? Subhash\n",
      "What is your name? Sagar\n",
      "What is your name? Hardik\n"
     ]
    }
   ],
   "source": [
    "# We keep asking the user for their name until we get the correct answer. \n",
    "userName = \"\"\n",
    "while userName !=  \"Hardik\":\n",
    "    userName = input(\"What is your name?\")"
   ]
  },
  {
   "cell_type": "markdown",
   "id": "11c78c33-060a-40d6-812b-361224548989",
   "metadata": {},
   "source": [
    "__Q2. Write a python program to print the sum and product of the first 10 natural\n",
    "numbers using for amd while loop.__"
   ]
  },
  {
   "cell_type": "code",
   "execution_count": 4,
   "id": "f8ad6547-ffff-44fc-9728-81621ed77b82",
   "metadata": {},
   "outputs": [
    {
     "name": "stdout",
     "output_type": "stream",
     "text": [
      "Sum of first 10 natural numbers:  55\n",
      "Product of first 10 natural numbers:  3628800\n"
     ]
    }
   ],
   "source": [
    "Sum = 0\n",
    "Product = 1\n",
    "\n",
    "# Calculating sum of first 10 Natural numbers using a for loop\n",
    "for i in range(1,11): \n",
    "\tSum = Sum + i\n",
    "\n",
    "# Calculating product of first 10 Natural numbers using a while loop\n",
    "i  = 1 \n",
    "while i <= 10:\n",
    "\tProduct = Product * i\n",
    "\ti += 1\n",
    "\n",
    "# For displaying results\n",
    "print(\"Sum of first 10 natural numbers: \", Sum)\n",
    "print(\"Product of first 10 natural numbers: \", Product)"
   ]
  },
  {
   "cell_type": "markdown",
   "id": "e8997521-c1f3-4fca-990f-0af816775435",
   "metadata": {},
   "source": [
    "__Q3. Create a python program to compute the electricity bill for a household.\n",
    "\tThe per-unit charges in rupees are as follows: For the first 100 units, the user will be charged Rs. 4.5 per unit, for the next 100 units, the user will be charged Rs. 6 per unit, and for the next 100 units, the user will be charged Rs. 10 per unit, After 300 units and above the user will be charged Rs. 20 per unit.__\n",
    "    \n",
    "__You are required to take the units of electricity consumed in a month from the user as input.__\n",
    "    \n",
    "__Your program must pass this test case: when the unit of electricity consumed by the user in a month is 310, the total electricity bill should be 2250.__"
   ]
  },
  {
   "cell_type": "code",
   "execution_count": 5,
   "id": "36eb6cfc-be35-4117-ba78-41d73efbbd31",
   "metadata": {},
   "outputs": [
    {
     "name": "stdin",
     "output_type": "stream",
     "text": [
      "Enter the units of electricity consumed in a month:  310\n"
     ]
    },
    {
     "name": "stdout",
     "output_type": "stream",
     "text": [
      "Your electricity bill is : Rs.  2250.0\n"
     ]
    }
   ],
   "source": [
    "units_consumed = int(input(\"Enter the units of electricity consumed in a month: \"))\n",
    "bill_amount = 0\n",
    "temp = units_consumed\n",
    "\n",
    "if temp > 300:\n",
    "\tbill_amount += (temp - 300) * 20 #billing the units consumed over 300 units\n",
    "\ttemp = 300\n",
    "if temp > 200:\n",
    "\tbill_amount += (temp - 200) * 10 #billing from the third hundred of units\n",
    "\ttemp = 200\n",
    "if temp > 100:\n",
    "\tbill_amount += (temp - 100) * 6 #billing from the second hundreds of units\n",
    "\ttemp = 100\n",
    "if temp > 0:\n",
    "\tbill_amount += temp * 4.5     # billing from first hundred or less of units\n",
    "print( \"Your electricity bill is : Rs. \",bill_amount)\n"
   ]
  },
  {
   "cell_type": "markdown",
   "id": "740414d7-84fd-4102-853c-69dc8019cde4",
   "metadata": {},
   "source": [
    "**Q4. Create a list of numbers from 1 to 100. Use for loop and while loop to calculate the cube of each\n",
    "number and if the cube of that number is divisible by 4 or 5 then append that number in a list and print\n",
    "that list.**"
   ]
  },
  {
   "cell_type": "code",
   "execution_count": 6,
   "id": "a9f71730-c7e1-4d41-a08f-108dc0876e2e",
   "metadata": {},
   "outputs": [
    {
     "name": "stdout",
     "output_type": "stream",
     "text": [
      "[8, 64, 125, 216, 512, 1000, 1728, 2744, 3375, 4096, 5832, 8000, 10648, 13824, 15625, 17576, 21952, 27000, 32768, 39304, 42875, 46656, 54872, 64000, 74088, 85184, 91125, 97336, 110592, 125000, 140608, 157464, 166375, 175616, 195112, 216000, 238328, 262144, 274625, 287496, 314432, 343000, 373248, 405224, 421875, 438976, 474552, 512000, 551368, 592704, 614125, 636056, 681472, 729000, 778688, 830584, 857375, 884736, 941192, 1000000]\n"
     ]
    }
   ],
   "source": [
    "numbers = []\n",
    "cubes = []\n",
    "divisible_cubes = []\n",
    "\n",
    "#creating a list of numbers from 1 to 100 using a for loop\n",
    "for i in range(1,101):\n",
    "\tnumbers.append(i)\n",
    "\n",
    "#creating a list of cubes of numbers from 1 to 100 using a for loop and previous list\n",
    "for i in numbers:\n",
    "\tcubes.append(i**3)\n",
    "\n",
    "#checking the divisibilty of cubes by 4 or 5 for each cube number in 'cubes' list\n",
    "for i in cubes:\n",
    "\tif i%4 == 0 or i%5==0:\n",
    "\t\tdivisible_cubes.append(i)\n",
    "        \n",
    "#displaying cubes divisible by 4 or 5\n",
    "print(divisible_cubes)\n"
   ]
  },
  {
   "cell_type": "markdown",
   "id": "23ef456d-0b15-4ca0-94ad-2e13a60b526b",
   "metadata": {},
   "source": [
    "**Q5. Write a program to filter count vowels in the below-given string.**\n",
    "```\n",
    "string = \"I want to become a data scientist\"\n",
    "```"
   ]
  },
  {
   "cell_type": "code",
   "execution_count": 7,
   "id": "13fd1708-4817-4e25-a266-4be760da422b",
   "metadata": {},
   "outputs": [
    {
     "name": "stdout",
     "output_type": "stream",
     "text": [
      "The number of vowels in the given string are: 11\n"
     ]
    }
   ],
   "source": [
    "#given string\n",
    "string = \"I want to become a data scientist\"\n",
    "count = 0\t\t#variable to count the number of vowels\n",
    "\n",
    "# for loop used to iterate each character in string one by one\n",
    "for i in string:\n",
    "\tif i in ['a','e','i','o','u']:\t#checking if character is vowel\n",
    "\t\tcount += 1\t#if vowel --> count incremented\n",
    "\n",
    "#printing the output\n",
    "print(\"The number of vowels in the given string are:\", count)"
   ]
  }
 ],
 "metadata": {
  "kernelspec": {
   "display_name": "Python 3 (ipykernel)",
   "language": "python",
   "name": "python3"
  },
  "language_info": {
   "codemirror_mode": {
    "name": "ipython",
    "version": 3
   },
   "file_extension": ".py",
   "mimetype": "text/x-python",
   "name": "python",
   "nbconvert_exporter": "python",
   "pygments_lexer": "ipython3",
   "version": "3.10.8"
  }
 },
 "nbformat": 4,
 "nbformat_minor": 5
}
